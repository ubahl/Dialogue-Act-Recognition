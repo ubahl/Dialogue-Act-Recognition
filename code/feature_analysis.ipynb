{
 "cells": [
  {
   "cell_type": "markdown",
   "id": "8ea9be94",
   "metadata": {},
   "source": [
    "# Feature Analysis"
   ]
  },
  {
   "cell_type": "markdown",
   "id": "e4d52c14",
   "metadata": {},
   "source": [
    "## Text-Based Features"
   ]
  },
  {
   "cell_type": "markdown",
   "id": "b446a8e8",
   "metadata": {},
   "source": [
    "Test whether LIWC feature `tentat` or the phrase `i don't know` is more useful in predicting the dialogue act `Hedge`"
   ]
  },
  {
   "cell_type": "code",
   "execution_count": null,
   "id": "281586d1",
   "metadata": {},
   "outputs": [],
   "source": [
    "def get_frequencies(phrase, feature, top_ten):\n",
    "    total_feature_count = 0\n",
    "    total_phrase_count = 0\n",
    "\n",
    "    feature_counts = {}\n",
    "    phrase_counts = {}\n",
    "    \n",
    "    # Initialize the counts\n",
    "    for da in top_ten:\n",
    "        feature_counts[da] = 0\n",
    "        phrase_counts[da] = 0\n",
    "\n",
    "    # Obtain the counts.\n",
    "    for row, item in train_csv.iterrows():\n",
    "        da_tag = item['da_tag']\n",
    "         \n",
    "        if item[feature] > 0:\n",
    "            total_feature_count += 1\n",
    "\n",
    "            if da_tag in top_ten:\n",
    "                feature_counts[da_tag] += 1\n",
    "\n",
    "        if phrase in item['transcript']:\n",
    "            total_phrase_count += 1\n",
    "\n",
    "            if da_tag in top_ten:\n",
    "                phrase_counts[da_tag] += 1    \n",
    "            \n",
    "    # Normalize the dictionaries.\n",
    "    norm_feature_counts = {k: v / total_feature_count for k, v in feature_counts.items()}\n",
    "    norm_phrase_counts = {k: v / total_phrase_count for k, v in phrase_counts.items()}\n",
    "    \n",
    "    return norm_feature_counts, norm_phrase_counts\n",
    "\n",
    "norm_feature_counts, norm_phrase_counts = get_counts('i don\\'t know', 'tentat', ten_largest_das)"
   ]
  },
  {
   "cell_type": "code",
   "execution_count": null,
   "id": "9bbd791a",
   "metadata": {},
   "outputs": [],
   "source": [
    "bar_width = 0.25\n",
    "\n",
    "br1 = np.arange(len(ten_largest_das))\n",
    "br2 = [x + bar_width for x in br1]\n",
    "\n",
    "plt.bar(br1, norm_feature_counts.values(), color ='b', width = bar_width, label ='tentat')\n",
    "plt.bar(br2, norm_phrase_counts.values(), color ='g', width = bar_width, label ='\\'i don\\'t know\\'')\n",
    "\n",
    "plt.xticks(br2, ten_largest_das)\n",
    "plt.xlabel('Dialogue Act')\n",
    "plt.ylabel('Normalized Frequency')\n",
    "plt.title('Normalized Frequencies of the \\'tentat\\' Feature and \\n Phrase \\'i don\\'t know\\' For Each Dialogue Act')\n",
    "\n",
    "plt.legend()\n",
    "plt.show()"
   ]
  },
  {
   "cell_type": "markdown",
   "id": "f6630242",
   "metadata": {},
   "source": [
    "## Speech-Based Features"
   ]
  },
  {
   "cell_type": "code",
   "execution_count": null,
   "id": "bb118a35",
   "metadata": {},
   "outputs": [],
   "source": []
  }
 ],
 "metadata": {
  "kernelspec": {
   "display_name": "Python 3 (ipykernel)",
   "language": "python",
   "name": "python3"
  },
  "language_info": {
   "codemirror_mode": {
    "name": "ipython",
    "version": 3
   },
   "file_extension": ".py",
   "mimetype": "text/x-python",
   "name": "python",
   "nbconvert_exporter": "python",
   "pygments_lexer": "ipython3",
   "version": "3.9.6"
  }
 },
 "nbformat": 4,
 "nbformat_minor": 5
}
