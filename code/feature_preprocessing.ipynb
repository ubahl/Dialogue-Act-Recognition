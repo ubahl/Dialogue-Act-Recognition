{
 "cells": [
  {
   "cell_type": "markdown",
   "id": "ff59465b",
   "metadata": {},
   "source": [
    "# Feature Preprocessing"
   ]
  },
  {
   "cell_type": "code",
   "execution_count": 37,
   "id": "935219a0",
   "metadata": {},
   "outputs": [],
   "source": [
    "import matplotlib.pyplot as plt\n",
    "import pandas as pd"
   ]
  },
  {
   "cell_type": "code",
   "execution_count": 149,
   "id": "07775a68",
   "metadata": {},
   "outputs": [],
   "source": [
    "primary_key = ['dialog_id', 'speaker', 'da_tag', 'start_time', 'end_time']"
   ]
  },
  {
   "cell_type": "markdown",
   "id": "469b9451",
   "metadata": {},
   "source": [
    "## Load The Raw Features"
   ]
  },
  {
   "cell_type": "markdown",
   "id": "36f158f1",
   "metadata": {},
   "source": [
    "### `Train`"
   ]
  },
  {
   "cell_type": "code",
   "execution_count": 128,
   "id": "9b8054e0",
   "metadata": {},
   "outputs": [],
   "source": [
    "text_train = pd.read_csv('../features/raw_train_text_features.csv', index_col=0)\n",
    "speech_train = pd.read_csv('../features/raw_train_speech_features.csv', index_col=0)"
   ]
  },
  {
   "cell_type": "markdown",
   "id": "f568cccf",
   "metadata": {},
   "source": [
    "### `Test`"
   ]
  },
  {
   "cell_type": "code",
   "execution_count": 129,
   "id": "2aa24f03",
   "metadata": {},
   "outputs": [],
   "source": [
    "text_test = pd.read_csv('../features/raw_test_text_features.csv', index_col=0)\n",
    "speech_test = pd.read_csv('../features/raw_test_speech_features.csv', index_col=0)"
   ]
  },
  {
   "cell_type": "markdown",
   "id": "00d7b643",
   "metadata": {},
   "source": [
    "## Filter \"NaN\""
   ]
  },
  {
   "cell_type": "markdown",
   "id": "c17677ef",
   "metadata": {},
   "source": [
    "First, visualize which features are taking NaN values."
   ]
  },
  {
   "cell_type": "code",
   "execution_count": 142,
   "id": "11c1abab",
   "metadata": {},
   "outputs": [
    {
     "data": {
      "text/html": [
       "<div>\n",
       "<style scoped>\n",
       "    .dataframe tbody tr th:only-of-type {\n",
       "        vertical-align: middle;\n",
       "    }\n",
       "\n",
       "    .dataframe tbody tr th {\n",
       "        vertical-align: top;\n",
       "    }\n",
       "\n",
       "    .dataframe thead th {\n",
       "        text-align: right;\n",
       "    }\n",
       "</style>\n",
       "<table border=\"1\" class=\"dataframe\">\n",
       "  <thead>\n",
       "    <tr style=\"text-align: right;\">\n",
       "      <th></th>\n",
       "      <th>dialog_id</th>\n",
       "      <th>speaker</th>\n",
       "      <th>da_tag</th>\n",
       "      <th>start_time</th>\n",
       "      <th>end_time</th>\n",
       "      <th>Min Pitch</th>\n",
       "      <th>Max Pitch</th>\n",
       "      <th>Mean Pitch</th>\n",
       "      <th>Sd Pitch</th>\n",
       "      <th>Min Intensity</th>\n",
       "      <th>Max Intensity</th>\n",
       "      <th>Mean Intensity</th>\n",
       "      <th>Sd Intensity</th>\n",
       "      <th>Speaking Rate</th>\n",
       "      <th>Jitter</th>\n",
       "      <th>Shimmer</th>\n",
       "      <th>HNR</th>\n",
       "    </tr>\n",
       "  </thead>\n",
       "  <tbody>\n",
       "    <tr>\n",
       "      <th>26351</th>\n",
       "      <td>sw3000</td>\n",
       "      <td>A</td>\n",
       "      <td>%</td>\n",
       "      <td>70.29388</td>\n",
       "      <td>71.63819</td>\n",
       "      <td>0.097598</td>\n",
       "      <td>0.303433</td>\n",
       "      <td>0.273750</td>\n",
       "      <td>0.126608</td>\n",
       "      <td>0.882755</td>\n",
       "      <td>0.940564</td>\n",
       "      <td>0.945005</td>\n",
       "      <td>0.075539</td>\n",
       "      <td>0.142779</td>\n",
       "      <td>0.045159</td>\n",
       "      <td>0.070985</td>\n",
       "      <td>0.388680</td>\n",
       "    </tr>\n",
       "    <tr>\n",
       "      <th>5698</th>\n",
       "      <td>sw2109</td>\n",
       "      <td>A</td>\n",
       "      <td>%</td>\n",
       "      <td>267.14548</td>\n",
       "      <td>267.81420</td>\n",
       "      <td>0.124859</td>\n",
       "      <td>0.828162</td>\n",
       "      <td>0.435331</td>\n",
       "      <td>0.333985</td>\n",
       "      <td>0.927373</td>\n",
       "      <td>0.945247</td>\n",
       "      <td>0.944506</td>\n",
       "      <td>0.052112</td>\n",
       "      <td>0.143515</td>\n",
       "      <td>0.124188</td>\n",
       "      <td>0.288458</td>\n",
       "      <td>0.288253</td>\n",
       "    </tr>\n",
       "    <tr>\n",
       "      <th>27544</th>\n",
       "      <td>sw3047</td>\n",
       "      <td>A</td>\n",
       "      <td>%</td>\n",
       "      <td>348.36000</td>\n",
       "      <td>349.36564</td>\n",
       "      <td>0.085014</td>\n",
       "      <td>0.089852</td>\n",
       "      <td>0.083095</td>\n",
       "      <td>0.024536</td>\n",
       "      <td>0.883050</td>\n",
       "      <td>0.895534</td>\n",
       "      <td>0.901283</td>\n",
       "      <td>0.031897</td>\n",
       "      <td>0.143148</td>\n",
       "      <td>0.178147</td>\n",
       "      <td>0.139681</td>\n",
       "      <td>0.241005</td>\n",
       "    </tr>\n",
       "    <tr>\n",
       "      <th>22565</th>\n",
       "      <td>sw2847</td>\n",
       "      <td>B</td>\n",
       "      <td>%</td>\n",
       "      <td>366.11283</td>\n",
       "      <td>366.99661</td>\n",
       "      <td>0.321235</td>\n",
       "      <td>0.366787</td>\n",
       "      <td>0.321646</td>\n",
       "      <td>0.041314</td>\n",
       "      <td>0.925011</td>\n",
       "      <td>0.950798</td>\n",
       "      <td>0.956779</td>\n",
       "      <td>0.050193</td>\n",
       "      <td>0.108453</td>\n",
       "      <td>0.050183</td>\n",
       "      <td>0.101270</td>\n",
       "      <td>0.399500</td>\n",
       "    </tr>\n",
       "    <tr>\n",
       "      <th>23844</th>\n",
       "      <td>sw2876</td>\n",
       "      <td>B</td>\n",
       "      <td>%</td>\n",
       "      <td>28.45746</td>\n",
       "      <td>29.22207</td>\n",
       "      <td>0.311632</td>\n",
       "      <td>0.706303</td>\n",
       "      <td>0.349505</td>\n",
       "      <td>0.212820</td>\n",
       "      <td>0.935202</td>\n",
       "      <td>0.938434</td>\n",
       "      <td>0.952464</td>\n",
       "      <td>0.025642</td>\n",
       "      <td>0.125445</td>\n",
       "      <td>0.037897</td>\n",
       "      <td>0.073616</td>\n",
       "      <td>0.438817</td>\n",
       "    </tr>\n",
       "    <tr>\n",
       "      <th>...</th>\n",
       "      <td>...</td>\n",
       "      <td>...</td>\n",
       "      <td>...</td>\n",
       "      <td>...</td>\n",
       "      <td>...</td>\n",
       "      <td>...</td>\n",
       "      <td>...</td>\n",
       "      <td>...</td>\n",
       "      <td>...</td>\n",
       "      <td>...</td>\n",
       "      <td>...</td>\n",
       "      <td>...</td>\n",
       "      <td>...</td>\n",
       "      <td>...</td>\n",
       "      <td>...</td>\n",
       "      <td>...</td>\n",
       "      <td>...</td>\n",
       "    </tr>\n",
       "    <tr>\n",
       "      <th>33955</th>\n",
       "      <td>sw3324</td>\n",
       "      <td>B</td>\n",
       "      <td>x</td>\n",
       "      <td>240.35438</td>\n",
       "      <td>241.64000</td>\n",
       "      <td>0.170304</td>\n",
       "      <td>0.333345</td>\n",
       "      <td>0.202942</td>\n",
       "      <td>0.136991</td>\n",
       "      <td>0.913374</td>\n",
       "      <td>0.887518</td>\n",
       "      <td>0.889859</td>\n",
       "      <td>0.020756</td>\n",
       "      <td>0.036902</td>\n",
       "      <td>0.101071</td>\n",
       "      <td>0.171891</td>\n",
       "      <td>0.236375</td>\n",
       "    </tr>\n",
       "    <tr>\n",
       "      <th>1531</th>\n",
       "      <td>sw2028</td>\n",
       "      <td>B</td>\n",
       "      <td>x</td>\n",
       "      <td>389.64363</td>\n",
       "      <td>397.72000</td>\n",
       "      <td>NaN</td>\n",
       "      <td>NaN</td>\n",
       "      <td>NaN</td>\n",
       "      <td>NaN</td>\n",
       "      <td>0.017818</td>\n",
       "      <td>0.943801</td>\n",
       "      <td>0.917175</td>\n",
       "      <td>0.842325</td>\n",
       "      <td>0.005393</td>\n",
       "      <td>NaN</td>\n",
       "      <td>NaN</td>\n",
       "      <td>0.403484</td>\n",
       "    </tr>\n",
       "    <tr>\n",
       "      <th>53219</th>\n",
       "      <td>sw4572</td>\n",
       "      <td>A</td>\n",
       "      <td>x</td>\n",
       "      <td>218.07505</td>\n",
       "      <td>221.78331</td>\n",
       "      <td>NaN</td>\n",
       "      <td>NaN</td>\n",
       "      <td>NaN</td>\n",
       "      <td>NaN</td>\n",
       "      <td>0.864250</td>\n",
       "      <td>0.877509</td>\n",
       "      <td>0.872041</td>\n",
       "      <td>0.033651</td>\n",
       "      <td>0.012420</td>\n",
       "      <td>NaN</td>\n",
       "      <td>NaN</td>\n",
       "      <td>0.182791</td>\n",
       "    </tr>\n",
       "    <tr>\n",
       "      <th>10349</th>\n",
       "      <td>sw2248</td>\n",
       "      <td>A</td>\n",
       "      <td>x</td>\n",
       "      <td>329.88050</td>\n",
       "      <td>331.43676</td>\n",
       "      <td>0.130053</td>\n",
       "      <td>0.275143</td>\n",
       "      <td>0.207965</td>\n",
       "      <td>0.093123</td>\n",
       "      <td>0.904993</td>\n",
       "      <td>0.903608</td>\n",
       "      <td>0.896363</td>\n",
       "      <td>0.029821</td>\n",
       "      <td>0.030385</td>\n",
       "      <td>0.080894</td>\n",
       "      <td>0.219573</td>\n",
       "      <td>0.261561</td>\n",
       "    </tr>\n",
       "    <tr>\n",
       "      <th>48110</th>\n",
       "      <td>sw4074</td>\n",
       "      <td>B</td>\n",
       "      <td>x</td>\n",
       "      <td>262.74958</td>\n",
       "      <td>264.16000</td>\n",
       "      <td>0.046001</td>\n",
       "      <td>0.615990</td>\n",
       "      <td>0.551082</td>\n",
       "      <td>0.237131</td>\n",
       "      <td>0.887004</td>\n",
       "      <td>0.882691</td>\n",
       "      <td>0.868848</td>\n",
       "      <td>0.019812</td>\n",
       "      <td>0.033586</td>\n",
       "      <td>0.333942</td>\n",
       "      <td>0.318145</td>\n",
       "      <td>0.215276</td>\n",
       "    </tr>\n",
       "  </tbody>\n",
       "</table>\n",
       "<p>150000 rows × 17 columns</p>\n",
       "</div>"
      ],
      "text/plain": [
       "      dialog_id speaker da_tag  start_time   end_time  Min Pitch  Max Pitch  \\\n",
       "26351    sw3000       A      %    70.29388   71.63819   0.097598   0.303433   \n",
       "5698     sw2109       A      %   267.14548  267.81420   0.124859   0.828162   \n",
       "27544    sw3047       A      %   348.36000  349.36564   0.085014   0.089852   \n",
       "22565    sw2847       B      %   366.11283  366.99661   0.321235   0.366787   \n",
       "23844    sw2876       B      %    28.45746   29.22207   0.311632   0.706303   \n",
       "...         ...     ...    ...         ...        ...        ...        ...   \n",
       "33955    sw3324       B      x   240.35438  241.64000   0.170304   0.333345   \n",
       "1531     sw2028       B      x   389.64363  397.72000        NaN        NaN   \n",
       "53219    sw4572       A      x   218.07505  221.78331        NaN        NaN   \n",
       "10349    sw2248       A      x   329.88050  331.43676   0.130053   0.275143   \n",
       "48110    sw4074       B      x   262.74958  264.16000   0.046001   0.615990   \n",
       "\n",
       "       Mean Pitch  Sd Pitch  Min Intensity  Max Intensity  Mean Intensity  \\\n",
       "26351    0.273750  0.126608       0.882755       0.940564        0.945005   \n",
       "5698     0.435331  0.333985       0.927373       0.945247        0.944506   \n",
       "27544    0.083095  0.024536       0.883050       0.895534        0.901283   \n",
       "22565    0.321646  0.041314       0.925011       0.950798        0.956779   \n",
       "23844    0.349505  0.212820       0.935202       0.938434        0.952464   \n",
       "...           ...       ...            ...            ...             ...   \n",
       "33955    0.202942  0.136991       0.913374       0.887518        0.889859   \n",
       "1531          NaN       NaN       0.017818       0.943801        0.917175   \n",
       "53219         NaN       NaN       0.864250       0.877509        0.872041   \n",
       "10349    0.207965  0.093123       0.904993       0.903608        0.896363   \n",
       "48110    0.551082  0.237131       0.887004       0.882691        0.868848   \n",
       "\n",
       "       Sd Intensity  Speaking Rate    Jitter   Shimmer       HNR  \n",
       "26351      0.075539       0.142779  0.045159  0.070985  0.388680  \n",
       "5698       0.052112       0.143515  0.124188  0.288458  0.288253  \n",
       "27544      0.031897       0.143148  0.178147  0.139681  0.241005  \n",
       "22565      0.050193       0.108453  0.050183  0.101270  0.399500  \n",
       "23844      0.025642       0.125445  0.037897  0.073616  0.438817  \n",
       "...             ...            ...       ...       ...       ...  \n",
       "33955      0.020756       0.036902  0.101071  0.171891  0.236375  \n",
       "1531       0.842325       0.005393       NaN       NaN  0.403484  \n",
       "53219      0.033651       0.012420       NaN       NaN  0.182791  \n",
       "10349      0.029821       0.030385  0.080894  0.219573  0.261561  \n",
       "48110      0.019812       0.033586  0.333942  0.318145  0.215276  \n",
       "\n",
       "[150000 rows x 17 columns]"
      ]
     },
     "execution_count": 142,
     "metadata": {},
     "output_type": "execute_result"
    }
   ],
   "source": [
    "speech_train"
   ]
  },
  {
   "cell_type": "code",
   "execution_count": 150,
   "id": "3e7b1fba",
   "metadata": {},
   "outputs": [],
   "source": [
    "na_counts = {}\n",
    "\n",
    "for col in speech_train:\n",
    "    if not col in primary_key:\n",
    "        na_counts[col] = speech_train[col].isna().sum()"
   ]
  },
  {
   "cell_type": "code",
   "execution_count": null,
   "id": "6ca19601",
   "metadata": {},
   "outputs": [],
   "source": []
  },
  {
   "cell_type": "code",
   "execution_count": 151,
   "id": "cf564ce0",
   "metadata": {},
   "outputs": [
    {
     "data": {
      "text/plain": [
       "{'Min Pitch': 4129,\n",
       " 'Max Pitch': 4129,\n",
       " 'Mean Pitch': 4129,\n",
       " 'Sd Pitch': 4253,\n",
       " 'Min Intensity': 0,\n",
       " 'Max Intensity': 0,\n",
       " 'Mean Intensity': 0,\n",
       " 'Sd Intensity': 0,\n",
       " 'Speaking Rate': 0,\n",
       " 'Jitter': 4220,\n",
       " 'Shimmer': 4505,\n",
       " 'HNR': 243}"
      ]
     },
     "execution_count": 151,
     "metadata": {},
     "output_type": "execute_result"
    }
   ],
   "source": [
    "na_counts"
   ]
  },
  {
   "cell_type": "code",
   "execution_count": 153,
   "id": "2c1d1672",
   "metadata": {},
   "outputs": [
    {
     "data": {
      "image/png": "[encoded data removed]",
      "text/plain": [
       "<Figure size 640x480 with 1 Axes>"
      ]
     },
     "metadata": {},
     "output_type": "display_data"
    }
   ],
   "source": [
    "plt.bar(na_counts.keys(), na_counts.values())\n",
    "\n",
    "plt.xlabel('Dialogue Act')\n",
    "plt.ylabel('Number of Samples')\n",
    "plt.title('Number of NaN For Each Feature')\n",
    "\n",
    "plt.show()"
   ]
  },
  {
   "cell_type": "code",
   "execution_count": 132,
   "id": "cd5b29aa",
   "metadata": {},
   "outputs": [],
   "source": [
    "# Count the columns/datags with NaN and deal accordingly"
   ]
  },
  {
   "cell_type": "code",
   "execution_count": null,
   "id": "ff7c285a",
   "metadata": {},
   "outputs": [],
   "source": [
    "#Correlation with length?"
   ]
  },
  {
   "cell_type": "code",
   "execution_count": null,
   "id": "a1b9fc7a",
   "metadata": {},
   "outputs": [],
   "source": [
    "# Correlation with DA?"
   ]
  },
  {
   "cell_type": "markdown",
   "id": "53bb147f",
   "metadata": {},
   "source": [
    "## Distribute Classes"
   ]
  },
  {
   "cell_type": "markdown",
   "id": "e7886770",
   "metadata": {},
   "source": [
    "As shown below, the classes are very unbalanced. We downsample the larger classes and upsample the smaller classes."
   ]
  },
  {
   "cell_type": "code",
   "execution_count": 130,
   "id": "22e81279",
   "metadata": {},
   "outputs": [
    {
     "data": {
      "image/png": "[encoded data removed]",
      "text/plain": [
       "<Figure size 640x480 with 1 Axes>"
      ]
     },
     "metadata": {},
     "output_type": "display_data"
    }
   ],
   "source": [
    "da_tags = []\n",
    "num_samples = []\n",
    "\n",
    "for row, item in text_train.groupby('da_tag'):\n",
    "    da_tags.append(row)\n",
    "    num_samples.append(len(item))\n",
    "\n",
    "plt.bar(da_tags, num_samples)\n",
    "\n",
    "plt.xlabel('Dialogue Act')\n",
    "plt.ylabel('Number of Samples')\n",
    "plt.title('Number of Training Samples for Each Dialogue Act')\n",
    "\n",
    "plt.show()"
   ]
  },
  {
   "cell_type": "code",
   "execution_count": 115,
   "id": "43bf3e71",
   "metadata": {},
   "outputs": [],
   "source": [
    "def resample_df(df, n):\n",
    "    sampled_dfs = []\n",
    "\n",
    "    for row, item in df.groupby('da_tag'):\n",
    "        sampled_dfs.append(item.sample(n=n, replace=True, random_state=1))\n",
    "\n",
    "    return pd.concat(sampled_dfs)    "
   ]
  },
  {
   "cell_type": "code",
   "execution_count": 136,
   "id": "a8b73620",
   "metadata": {},
   "outputs": [],
   "source": [
    "text_train = resample_df(text_train, 15000)\n",
    "speech_train = resample_df(speech_train, 15000)"
   ]
  },
  {
   "cell_type": "markdown",
   "id": "0ce83ef8",
   "metadata": {},
   "source": [
    "## Normalize"
   ]
  },
  {
   "cell_type": "markdown",
   "id": "c150a3e6",
   "metadata": {},
   "source": [
    "`min-max` feature scaling\n",
    "\n",
    "Reference: https://www.geeksforgeeks.org/data-normalization-with-pandas/"
   ]
  },
  {
   "cell_type": "code",
   "execution_count": 123,
   "id": "d0c34a8b",
   "metadata": {},
   "outputs": [],
   "source": [
    "def min_max_scale(df):\n",
    "    for column in df.columns:\n",
    "        if (not column in ['dialog_id', 'speaker', 'da_tag', 'start_time', 'end_time']):\n",
    "            df[column] = (df[column] - df[column].min()) / (df[column].max() - df[column].min())"
   ]
  },
  {
   "cell_type": "code",
   "execution_count": 138,
   "id": "1f2d4ece",
   "metadata": {},
   "outputs": [],
   "source": [
    "min_max_scale(text_train)\n",
    "min_max_scale(text_test)"
   ]
  },
  {
   "cell_type": "code",
   "execution_count": 134,
   "id": "92f30a17",
   "metadata": {},
   "outputs": [],
   "source": [
    "min_max_scale(speech_train)\n",
    "min_max_scale(speech_test)"
   ]
  },
  {
   "cell_type": "markdown",
   "id": "284b1aea",
   "metadata": {},
   "source": [
    "## Write to CSV File"
   ]
  },
  {
   "cell_type": "code",
   "execution_count": 141,
   "id": "0235c815",
   "metadata": {},
   "outputs": [],
   "source": [
    "text_train.to_csv('../features/train_text_features.csv')\n",
    "text_test.to_csv('../features/test_text_features.csv')"
   ]
  },
  {
   "cell_type": "code",
   "execution_count": null,
   "id": "7fbba4bd",
   "metadata": {},
   "outputs": [],
   "source": []
  }
 ],
 "metadata": {
  "kernelspec": {
   "display_name": "Python 3 (ipykernel)",
   "language": "python",
   "name": "python3"
  },
  "language_info": {
   "codemirror_mode": {
    "name": "ipython",
    "version": 3
   },
   "file_extension": ".py",
   "mimetype": "text/x-python",
   "name": "python",
   "nbconvert_exporter": "python",
   "pygments_lexer": "ipython3",
   "version": "3.9.6"
  }
 },
 "nbformat": 4,
 "nbformat_minor": 5
}
