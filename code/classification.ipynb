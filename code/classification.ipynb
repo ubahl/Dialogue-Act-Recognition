{
 "cells": [
  {
   "cell_type": "markdown",
   "id": "47ce9b12",
   "metadata": {},
   "source": [
    "# Classification"
   ]
  },
  {
   "cell_type": "code",
   "execution_count": 24,
   "id": "3604a6fe",
   "metadata": {},
   "outputs": [],
   "source": [
    "from sklearn.ensemble import RandomForestClassifier\n",
    "from sklearn.metrics import accuracy_score\n",
    "from sklearn.metrics import confusion_matrix\n",
    "from sklearn.metrics import f1_score\n",
    "\n",
    "import pandas as pd"
   ]
  },
  {
   "cell_type": "code",
   "execution_count": null,
   "id": "f856ee2d",
   "metadata": {},
   "outputs": [],
   "source": [
    "# TODO: try other models too"
   ]
  },
  {
   "cell_type": "markdown",
   "id": "db1a068a",
   "metadata": {},
   "source": [
    "## Load Data"
   ]
  },
  {
   "cell_type": "code",
   "execution_count": 4,
   "id": "578d3a23",
   "metadata": {},
   "outputs": [],
   "source": [
    "text_train = pd.read_csv('../features/train_text_features.csv', index_col=0)\n",
    "text_test = pd.read_csv('../features/test_text_features.csv', index_col=0)"
   ]
  },
  {
   "cell_type": "markdown",
   "id": "e947c84d",
   "metadata": {},
   "source": [
    "## Compare Models"
   ]
  },
  {
   "cell_type": "code",
   "execution_count": 19,
   "id": "1736c239",
   "metadata": {},
   "outputs": [],
   "source": [
    "primary_key = ['dialog_id', 'speaker', 'da_tag', 'start_time', 'end_time']"
   ]
  },
  {
   "cell_type": "markdown",
   "id": "b2e9d8fb",
   "metadata": {},
   "source": [
    "### Decision Tree"
   ]
  },
  {
   "cell_type": "markdown",
   "id": "affb651b",
   "metadata": {},
   "source": [
    "### SVM"
   ]
  },
  {
   "cell_type": "markdown",
   "id": "76ac1980",
   "metadata": {},
   "source": [
    "### Random Forest"
   ]
  },
  {
   "cell_type": "code",
   "execution_count": 22,
   "id": "dc46baa7",
   "metadata": {},
   "outputs": [],
   "source": [
    "\n",
    "    clf = RandomForestClassifier()\n",
    "    clf.fit(train.drop(primary_key, axis=1), train['da_tag'])\n",
    "\n",
    "    preds = clf.predict(test.drop(primary_key, axis=1))\n",
    "    labels = test['da_tag']\n",
    "                        \n",
    "    print('F1 score:', f1_score(labels, preds, average='macro'))\n",
    "    print('Accuracy:', accuracy_score(labels, preds))"
   ]
  },
  {
   "cell_type": "code",
   "execution_count": 23,
   "id": "a613c082",
   "metadata": {},
   "outputs": [
    {
     "name": "stdout",
     "output_type": "stream",
     "text": [
      "F1 score: 0.6140556484353251\n",
      "Accuracy: 0.8198127242495843\n"
     ]
    }
   ],
   "source": [
    "train_rf_classifier(text_train, text_test)"
   ]
  },
  {
   "cell_type": "code",
   "execution_count": 25,
   "id": "74766090",
   "metadata": {},
   "outputs": [
    {
     "ename": "NameError",
     "evalue": "name 'preds' is not defined",
     "output_type": "error",
     "traceback": [
      "\u001b[0;31m---------------------------------------------------------------------------\u001b[0m",
      "\u001b[0;31mNameError\u001b[0m                                 Traceback (most recent call last)",
      "Cell \u001b[0;32mIn[25], line 1\u001b[0m\n\u001b[0;32m----> 1\u001b[0m \u001b[43mpreds\u001b[49m\n",
      "\u001b[0;31mNameError\u001b[0m: name 'preds' is not defined"
     ]
    }
   ],
   "source": [
    "preds"
   ]
  },
  {
   "cell_type": "code",
   "execution_count": null,
   "id": "15717f61",
   "metadata": {},
   "outputs": [],
   "source": []
  }
 ],
 "metadata": {
  "kernelspec": {
   "display_name": "Python 3 (ipykernel)",
   "language": "python",
   "name": "python3"
  },
  "language_info": {
   "codemirror_mode": {
    "name": "ipython",
    "version": 3
   },
   "file_extension": ".py",
   "mimetype": "text/x-python",
   "name": "python",
   "nbconvert_exporter": "python",
   "pygments_lexer": "ipython3",
   "version": "3.9.6"
  }
 },
 "nbformat": 4,
 "nbformat_minor": 5
}
